{
 "cells": [
  {
   "cell_type": "code",
   "execution_count": 1,
   "id": "e0181a49",
   "metadata": {},
   "outputs": [],
   "source": [
    "city_1 = ('London', 'UK', 8.98)"
   ]
  },
  {
   "cell_type": "code",
   "execution_count": 2,
   "id": "75f991d1",
   "metadata": {},
   "outputs": [],
   "source": [
    "city_2 = ('Canberra', 'Australia', 0.4)"
   ]
  },
  {
   "cell_type": "code",
   "execution_count": 3,
   "id": "d44b03e0",
   "metadata": {},
   "outputs": [],
   "source": [
    "city_3 = ('Algiers', 'Algeria', 3.9)"
   ]
  },
  {
   "cell_type": "code",
   "execution_count": 4,
   "id": "f254bbf5",
   "metadata": {},
   "outputs": [],
   "source": [
    "capitals = [('London', 'UK', 8.98), ('Canberra', 'Australia', 0.4), ('Algiers', 'Algeria', 3.9)]"
   ]
  },
  {
   "cell_type": "code",
   "execution_count": 5,
   "id": "b810e200",
   "metadata": {},
   "outputs": [
    {
     "name": "stdout",
     "output_type": "stream",
     "text": [
      "Name: London , Country: UK , Population: 8.98\n",
      "Name: Canberra , Country: Australia , Population: 0.4\n",
      "Name: Algiers , Country: Algeria , Population: 3.9\n"
     ]
    }
   ],
   "source": [
    "for capital in capitals:\n",
    "    print('Name:', capital[0], ', Country:', capital[1], ', Population:', capital[2])"
   ]
  },
  {
   "cell_type": "code",
   "execution_count": 6,
   "id": "151d077e",
   "metadata": {},
   "outputs": [],
   "source": [
    "user_data = ('John', 'American', 1964, [77.0, 78.3, 77.5])"
   ]
  },
  {
   "cell_type": "code",
   "execution_count": 7,
   "id": "533cc510",
   "metadata": {},
   "outputs": [],
   "source": [
    "user_data[3].append(79.6)"
   ]
  },
  {
   "cell_type": "code",
   "execution_count": 8,
   "id": "bbd2b034",
   "metadata": {},
   "outputs": [
    {
     "name": "stdout",
     "output_type": "stream",
     "text": [
      "('John', 'American', 1964, [77.0, 78.3, 77.5, 79.6])\n"
     ]
    }
   ],
   "source": [
    "print(user_data)"
   ]
  },
  {
   "cell_type": "code",
   "execution_count": 9,
   "id": "aea4497b",
   "metadata": {},
   "outputs": [
    {
     "name": "stdout",
     "output_type": "stream",
     "text": [
      "5 connections lead to Rome with an average flight time of 161.0 minutes\n"
     ]
    }
   ],
   "source": [
    "connections = [\n",
    "    ('Amsterdam', 'Dublin', 100),\n",
    "    ('Amsterdam', 'Rome', 140),\n",
    "    ('Rome', 'Warsaw', 130),\n",
    "    ('Minsk', 'Prague', 95),\n",
    "    ('Stockholm', 'Rome', 190),\n",
    "    ('Copenhagen', 'Paris', 120),\n",
    "    ('Madrid', 'Rome', 135),\n",
    "    ('Lisbon', 'Rome', 170),\n",
    "    ('Dublin', 'Rome', 170),\n",
    "    ]\n",
    "\n",
    "connection_counts = 0\n",
    "flight_time = 0.0\n",
    "for connection in connections:\n",
    "    if connection[1] == 'Rome':\n",
    "        connection_counts += 1\n",
    "        flight_time += connection[2]\n",
    "print(connection_counts, 'connections lead to Rome with an average flight time of', flight_time / connection_counts, 'minutes')\n",
    "    "
   ]
  },
  {
   "cell_type": "code",
   "execution_count": 1,
   "id": "05bc8ee5",
   "metadata": {},
   "outputs": [
    {
     "name": "stdout",
     "output_type": "stream",
     "text": [
      "((1, 2), (1, 2), (1, 2), (1, 2), (1, 2), (1, 2), (1, 2))\n",
      "((1, 2), (1, 2), (1, 2), (1, 2))\n",
      "4\n"
     ]
    }
   ],
   "source": [
    "data = ((1, 2),) *  7\n",
    "print(data)\n",
    "print(data[3:8])\n",
    "print(len(data[3:8]))"
   ]
  },
  {
   "cell_type": "code",
   "execution_count": null,
   "id": "9023031e",
   "metadata": {},
   "outputs": [],
   "source": []
  }
 ],
 "metadata": {
  "kernelspec": {
   "display_name": "Python 3",
   "language": "python",
   "name": "python3"
  },
  "language_info": {
   "codemirror_mode": {
    "name": "ipython",
    "version": 3
   },
   "file_extension": ".py",
   "mimetype": "text/x-python",
   "name": "python",
   "nbconvert_exporter": "python",
   "pygments_lexer": "ipython3",
   "version": "3.13.7"
  }
 },
 "nbformat": 4,
 "nbformat_minor": 5
}
