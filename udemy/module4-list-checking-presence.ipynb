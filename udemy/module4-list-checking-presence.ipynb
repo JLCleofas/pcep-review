{
 "cells": [
  {
   "cell_type": "code",
   "execution_count": 3,
   "id": "89555a8e",
   "metadata": {},
   "outputs": [
    {
     "name": "stdout",
     "output_type": "stream",
     "text": [
      "Welcome\n"
     ]
    }
   ],
   "source": [
    "invited_guests = ['Kate', 'Adam', 'Kerry', 'Joe', 'Anne', 'Marie']\n",
    "name = input('What is your name? ')\n",
    "if name in invited_guests:\n",
    "    print('Welcome')\n",
    "else:\n",
    "    print('You are not invited!')"
   ]
  },
  {
   "cell_type": "code",
   "execution_count": 5,
   "id": "c62263a7",
   "metadata": {},
   "outputs": [
    {
     "name": "stdout",
     "output_type": "stream",
     "text": [
      "Welcome\n"
     ]
    }
   ],
   "source": [
    "invited_guests = ['Kate', 'Adam', 'Kerry', 'Joe', 'Anne', 'Marie']\n",
    "name = input('What is your name? ')\n",
    "if name not in invited_guests:\n",
    "    print('You are not invited!')\n",
    "else:\n",
    "    print('Welcome')\n",
    "    "
   ]
  }
 ],
 "metadata": {
  "kernelspec": {
   "display_name": "Python 3",
   "language": "python",
   "name": "python3"
  },
  "language_info": {
   "codemirror_mode": {
    "name": "ipython",
    "version": 3
   },
   "file_extension": ".py",
   "mimetype": "text/x-python",
   "name": "python",
   "nbconvert_exporter": "python",
   "pygments_lexer": "ipython3",
   "version": "3.13.7"
  }
 },
 "nbformat": 4,
 "nbformat_minor": 5
}
