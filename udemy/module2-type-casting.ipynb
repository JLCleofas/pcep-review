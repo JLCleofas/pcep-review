{
 "cells": [
  {
   "cell_type": "code",
   "execution_count": 6,
   "id": "24e6344f",
   "metadata": {},
   "outputs": [
    {
     "name": "stdout",
     "output_type": "stream",
     "text": [
      "Your height in feet is: 5.511811023622047\n"
     ]
    }
   ],
   "source": [
    "height_cm = input('Height converter: enter your heigh in cm >> ')\n",
    "print('Your height in feet is:', float(height_cm) / 30.48)"
   ]
  },
  {
   "cell_type": "code",
   "execution_count": 5,
   "id": "14affd65",
   "metadata": {},
   "outputs": [
    {
     "name": "stdout",
     "output_type": "stream",
     "text": [
      "Your height in feet is: 5.479002624671916\n"
     ]
    }
   ],
   "source": [
    "height_cm = float(input('Height converter: enter your heigh in cm >> '))\n",
    "print('Your height in feet is:', height_cm / 30.48)"
   ]
  },
  {
   "cell_type": "code",
   "execution_count": null,
   "id": "d09d2e3c",
   "metadata": {},
   "outputs": [],
   "source": []
  }
 ],
 "metadata": {
  "kernelspec": {
   "display_name": "Python 3",
   "language": "python",
   "name": "python3"
  },
  "language_info": {
   "codemirror_mode": {
    "name": "ipython",
    "version": 3
   },
   "file_extension": ".py",
   "mimetype": "text/x-python",
   "name": "python",
   "nbconvert_exporter": "python",
   "pygments_lexer": "ipython3",
   "version": "3.13.1"
  }
 },
 "nbformat": 4,
 "nbformat_minor": 5
}
