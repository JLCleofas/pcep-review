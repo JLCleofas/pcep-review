{
 "cells": [
  {
   "cell_type": "code",
   "execution_count": 1,
   "id": "d314d7dc",
   "metadata": {},
   "outputs": [
    {
     "name": "stdout",
     "output_type": "stream",
     "text": [
      "Hello World!\n"
     ]
    }
   ],
   "source": [
    "print('Hello World!')"
   ]
  },
  {
   "cell_type": "code",
   "execution_count": 2,
   "id": "e0f4c314",
   "metadata": {},
   "outputs": [
    {
     "name": "stdout",
     "output_type": "stream",
     "text": [
      "Hello!\n"
     ]
    }
   ],
   "source": [
    "print('Hello!')"
   ]
  },
  {
   "cell_type": "code",
   "execution_count": 3,
   "id": "5fa9fded",
   "metadata": {},
   "outputs": [
    {
     "name": "stdout",
     "output_type": "stream",
     "text": [
      "I'm studying python!\n"
     ]
    }
   ],
   "source": [
    "print(\"I'm studying python!\")"
   ]
  },
  {
   "cell_type": "code",
   "execution_count": 4,
   "id": "66d0b273",
   "metadata": {},
   "outputs": [
    {
     "name": "stdout",
     "output_type": "stream",
     "text": [
      "I'm studying python!\n"
     ]
    }
   ],
   "source": [
    "print('I\\'m studying python!')"
   ]
  },
  {
   "cell_type": "code",
   "execution_count": 6,
   "id": "f5028f03",
   "metadata": {},
   "outputs": [
    {
     "name": "stdout",
     "output_type": "stream",
     "text": [
      "I'm studying pythong\n",
      "and having fun!\n"
     ]
    }
   ],
   "source": [
    "print('I\\'m studying pythong') \n",
    "print('and having fun!')"
   ]
  },
  {
   "cell_type": "code",
   "execution_count": 7,
   "id": "90850446",
   "metadata": {},
   "outputs": [
    {
     "name": "stdout",
     "output_type": "stream",
     "text": [
      "I'm studying python and having fun!\n"
     ]
    }
   ],
   "source": [
    "print('I\\'m studying python', 'and having fun!') "
   ]
  },
  {
   "cell_type": "code",
   "execution_count": 8,
   "id": "679d6f50",
   "metadata": {},
   "outputs": [
    {
     "name": "stdout",
     "output_type": "stream",
     "text": [
      "I'm studying\n",
      "python\n"
     ]
    }
   ],
   "source": [
    "print('I\\'m studying\\npython')"
   ]
  },
  {
   "cell_type": "code",
   "execution_count": null,
   "id": "7ef9e4d3",
   "metadata": {},
   "outputs": [],
   "source": []
  }
 ],
 "metadata": {
  "kernelspec": {
   "display_name": "Python 3",
   "language": "python",
   "name": "python3"
  },
  "language_info": {
   "codemirror_mode": {
    "name": "ipython",
    "version": 3
   },
   "file_extension": ".py",
   "mimetype": "text/x-python",
   "name": "python",
   "nbconvert_exporter": "python",
   "pygments_lexer": "ipython3",
   "version": "3.13.1"
  }
 },
 "nbformat": 4,
 "nbformat_minor": 5
}
