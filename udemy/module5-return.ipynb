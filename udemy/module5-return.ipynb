{
 "cells": [
  {
   "cell_type": "code",
   "execution_count": 1,
   "id": "a172e13b",
   "metadata": {},
   "outputs": [],
   "source": [
    "def get_average(input_numbers):\n",
    "    sum = 0.0\n",
    "    for number in input_numbers:\n",
    "        sum += number\n",
    "    average = sum / len(input_numbers)\n",
    "    return average\n"
   ]
  },
  {
   "cell_type": "code",
   "execution_count": 3,
   "id": "741a07bd",
   "metadata": {},
   "outputs": [
    {
     "name": "stdout",
     "output_type": "stream",
     "text": [
      "The average is: 7.24\n"
     ]
    }
   ],
   "source": [
    "print(f'The average is: {get_average([5.0, 3.5, 7.8, 9.9, 10.0])}')"
   ]
  },
  {
   "cell_type": "code",
   "execution_count": 4,
   "id": "03d4891a",
   "metadata": {},
   "outputs": [
    {
     "name": "stdout",
     "output_type": "stream",
     "text": [
      "The average is too high!\n"
     ]
    }
   ],
   "source": [
    "average = get_average([5.0, 3.5, 7.8, 9.9, 10.0])\n",
    "if average > 5.0:\n",
    "    print('The average is too high!')"
   ]
  },
  {
   "cell_type": "code",
   "execution_count": null,
   "id": "757511d8",
   "metadata": {},
   "outputs": [],
   "source": [
    "# after the return function, the code automatically exits.\n",
    "# this will cause the code below the return not to run.\n",
    "def get_average(input_numbers):\n",
    "    sum = 0.0\n",
    "    for number in input_numbers:\n",
    "        sum += number\n",
    "    average = sum / len(input_numbers)\n",
    "    return average\n",
    "    print('Show me!')\n"
   ]
  },
  {
   "cell_type": "code",
   "execution_count": 6,
   "id": "4596bfe6",
   "metadata": {},
   "outputs": [],
   "source": [
    "def is_first_last_equal(number_list):\n",
    "    if (number_list[0] == number_list[-1]):\n",
    "        return True\n",
    "    else:\n",
    "        return False"
   ]
  },
  {
   "cell_type": "code",
   "execution_count": 7,
   "id": "7dbf7965",
   "metadata": {},
   "outputs": [
    {
     "name": "stdout",
     "output_type": "stream",
     "text": [
      "True\n"
     ]
    }
   ],
   "source": [
    "print(is_first_last_equal([10, 20, 30 ,40, 10]))"
   ]
  },
  {
   "cell_type": "code",
   "execution_count": 8,
   "id": "e0468d3f",
   "metadata": {},
   "outputs": [
    {
     "name": "stdout",
     "output_type": "stream",
     "text": [
      "False\n"
     ]
    }
   ],
   "source": [
    "print(is_first_last_equal([10, 20, 30 ,40, 50]))"
   ]
  },
  {
   "cell_type": "code",
   "execution_count": 10,
   "id": "3d918e1c",
   "metadata": {},
   "outputs": [
    {
     "ename": "IndexError",
     "evalue": "list index out of range",
     "output_type": "error",
     "traceback": [
      "\u001b[31m---------------------------------------------------------------------------\u001b[39m",
      "\u001b[31mIndexError\u001b[39m                                Traceback (most recent call last)",
      "\u001b[36mCell\u001b[39m\u001b[36m \u001b[39m\u001b[32mIn[10]\u001b[39m\u001b[32m, line 1\u001b[39m\n\u001b[32m----> \u001b[39m\u001b[32m1\u001b[39m \u001b[38;5;28mprint\u001b[39m(\u001b[43mis_first_last_equal\u001b[49m\u001b[43m(\u001b[49m\u001b[43m[\u001b[49m\u001b[43m]\u001b[49m\u001b[43m)\u001b[49m)\n",
      "\u001b[36mCell\u001b[39m\u001b[36m \u001b[39m\u001b[32mIn[6]\u001b[39m\u001b[32m, line 2\u001b[39m, in \u001b[36mis_first_last_equal\u001b[39m\u001b[34m(number_list)\u001b[39m\n\u001b[32m      1\u001b[39m \u001b[38;5;28;01mdef\u001b[39;00m\u001b[38;5;250m \u001b[39m\u001b[34mis_first_last_equal\u001b[39m(number_list):\n\u001b[32m----> \u001b[39m\u001b[32m2\u001b[39m     \u001b[38;5;28;01mif\u001b[39;00m (\u001b[43mnumber_list\u001b[49m\u001b[43m[\u001b[49m\u001b[32;43m0\u001b[39;49m\u001b[43m]\u001b[49m == number_list[-\u001b[32m1\u001b[39m]):\n\u001b[32m      3\u001b[39m         \u001b[38;5;28;01mreturn\u001b[39;00m \u001b[38;5;28;01mTrue\u001b[39;00m\n\u001b[32m      4\u001b[39m     \u001b[38;5;28;01melse\u001b[39;00m:\n",
      "\u001b[31mIndexError\u001b[39m: list index out of range"
     ]
    }
   ],
   "source": [
    "print(is_first_last_equal([]))"
   ]
  },
  {
   "cell_type": "code",
   "execution_count": null,
   "id": "3460be8b",
   "metadata": {},
   "outputs": [],
   "source": [
    "def is_first_last_equal(number_list):\n",
    "    # like error handling an empty list\n",
    "    if len(number_list) == 0:\n",
    "        return\n",
    "    if (number_list[0] == number_list[-1]):\n",
    "        return True\n",
    "    else:\n",
    "        return False"
   ]
  },
  {
   "cell_type": "code",
   "execution_count": 12,
   "id": "5f9d97da",
   "metadata": {},
   "outputs": [
    {
     "name": "stdout",
     "output_type": "stream",
     "text": [
      "True\n"
     ]
    }
   ],
   "source": [
    "print(is_first_last_equal([10, 20, 30 ,40, 10]))"
   ]
  },
  {
   "cell_type": "code",
   "execution_count": 13,
   "id": "4fe3c274",
   "metadata": {},
   "outputs": [
    {
     "name": "stdout",
     "output_type": "stream",
     "text": [
      "False\n"
     ]
    }
   ],
   "source": [
    "print(is_first_last_equal([10, 20, 30 ,40, 50]))"
   ]
  },
  {
   "cell_type": "code",
   "execution_count": 14,
   "id": "f8ff9048",
   "metadata": {},
   "outputs": [
    {
     "name": "stdout",
     "output_type": "stream",
     "text": [
      "None\n"
     ]
    }
   ],
   "source": [
    "print(is_first_last_equal([]))"
   ]
  },
  {
   "cell_type": "code",
   "execution_count": 37,
   "id": "49800ad2",
   "metadata": {},
   "outputs": [],
   "source": [
    "def unique(init_list = []):\n",
    "    unique_list = []\n",
    "    for items in init_list:\n",
    "        if items not in unique_list:\n",
    "            unique_list.append(items)\n",
    "    return unique_list"
   ]
  },
  {
   "cell_type": "code",
   "execution_count": 16,
   "id": "0d4328a4",
   "metadata": {},
   "outputs": [],
   "source": [
    "unique()"
   ]
  },
  {
   "cell_type": "code",
   "execution_count": null,
   "id": "7f6811c1",
   "metadata": {},
   "outputs": [
    {
     "data": {
      "text/plain": [
       "[1, 2, 3, 4, 5, 7]"
      ]
     },
     "execution_count": 38,
     "metadata": {},
     "output_type": "execute_result"
    },
    {
     "ename": "",
     "evalue": "",
     "output_type": "error",
     "traceback": [
      "\u001b[1;31mThe Kernel crashed while executing code in the current cell or a previous cell. \n",
      "\u001b[1;31mPlease review the code in the cell(s) to identify a possible cause of the failure. \n",
      "\u001b[1;31mClick <a href='https://aka.ms/vscodeJupyterKernelCrash'>here</a> for more info. \n",
      "\u001b[1;31mView Jupyter <a href='command:jupyter.viewOutput'>log</a> for further details."
     ]
    }
   ],
   "source": [
    "unique([1, 2, 3, 4, 1, 5, 1, 7, 5])"
   ]
  },
  {
   "cell_type": "code",
   "execution_count": null,
   "id": "2df80678",
   "metadata": {},
   "outputs": [
    {
     "ename": "TypeError",
     "evalue": "object of type 'bool' has no len()",
     "output_type": "error",
     "traceback": [
      "\u001b[31m---------------------------------------------------------------------------\u001b[39m",
      "\u001b[31mTypeError\u001b[39m                                 Traceback (most recent call last)",
      "\u001b[36mCell\u001b[39m\u001b[36m \u001b[39m\u001b[32mIn[19]\u001b[39m\u001b[32m, line 2\u001b[39m\n\u001b[32m      1\u001b[39m test_list = [\u001b[33m'\u001b[39m\u001b[33mMark\u001b[39m\u001b[33m'\u001b[39m, \u001b[33m'\u001b[39m\u001b[33mJohn\u001b[39m\u001b[33m'\u001b[39m, \u001b[33m'\u001b[39m\u001b[33mJohn\u001b[39m\u001b[33m'\u001b[39m]\n\u001b[32m----> \u001b[39m\u001b[32m2\u001b[39m \u001b[38;5;28mprint\u001b[39m(\u001b[38;5;28;43mlen\u001b[39;49m\u001b[43m(\u001b[49m\u001b[33;43m'\u001b[39;49m\u001b[33;43mJohn\u001b[39;49m\u001b[33;43m'\u001b[39;49m\u001b[43m \u001b[49m\u001b[38;5;129;43;01min\u001b[39;49;00m\u001b[43m \u001b[49m\u001b[43mtest_list\u001b[49m\u001b[43m)\u001b[49m)\n",
      "\u001b[31mTypeError\u001b[39m: object of type 'bool' has no len()"
     ]
    }
   ],
   "source": [
    "test_list = ['Mark', 'John', 'John']\n",
    "for item in test_list:\n",
    "    \n",
    "    for list_index in range(len(test_list)):\n",
    "        if item"
   ]
  },
  {
   "cell_type": "code",
   "execution_count": null,
   "id": "10750b2e",
   "metadata": {},
   "outputs": [],
   "source": []
  }
 ],
 "metadata": {
  "kernelspec": {
   "display_name": "Python 3",
   "language": "python",
   "name": "python3"
  },
  "language_info": {
   "codemirror_mode": {
    "name": "ipython",
    "version": 3
   },
   "file_extension": ".py",
   "mimetype": "text/x-python",
   "name": "python",
   "nbconvert_exporter": "python",
   "pygments_lexer": "ipython3",
   "version": "3.13.7"
  }
 },
 "nbformat": 4,
 "nbformat_minor": 5
}
