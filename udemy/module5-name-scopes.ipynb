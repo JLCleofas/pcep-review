{
 "cells": [
  {
   "cell_type": "code",
   "execution_count": 1,
   "id": "cdf878be",
   "metadata": {},
   "outputs": [
    {
     "ename": "NameError",
     "evalue": "name 'mysterious_var' is not defined",
     "output_type": "error",
     "traceback": [
      "\u001b[31m---------------------------------------------------------------------------\u001b[39m",
      "\u001b[31mNameError\u001b[39m                                 Traceback (most recent call last)",
      "\u001b[36mCell\u001b[39m\u001b[36m \u001b[39m\u001b[32mIn[1]\u001b[39m\u001b[32m, line 4\u001b[39m\n\u001b[32m      1\u001b[39m \u001b[38;5;28;01mdef\u001b[39;00m\u001b[38;5;250m \u001b[39m\u001b[34mshow_truth\u001b[39m():\n\u001b[32m      2\u001b[39m     \u001b[38;5;28mprint\u001b[39m(mysterious_var)\n\u001b[32m----> \u001b[39m\u001b[32m4\u001b[39m \u001b[43mshow_truth\u001b[49m\u001b[43m(\u001b[49m\u001b[43m)\u001b[49m\n",
      "\u001b[36mCell\u001b[39m\u001b[36m \u001b[39m\u001b[32mIn[1]\u001b[39m\u001b[32m, line 2\u001b[39m, in \u001b[36mshow_truth\u001b[39m\u001b[34m()\u001b[39m\n\u001b[32m      1\u001b[39m \u001b[38;5;28;01mdef\u001b[39;00m\u001b[38;5;250m \u001b[39m\u001b[34mshow_truth\u001b[39m():\n\u001b[32m----> \u001b[39m\u001b[32m2\u001b[39m     \u001b[38;5;28mprint\u001b[39m(\u001b[43mmysterious_var\u001b[49m)\n",
      "\u001b[31mNameError\u001b[39m: name 'mysterious_var' is not defined"
     ]
    }
   ],
   "source": [
    "def show_truth():\n",
    "    print(mysterious_var)\n",
    "\n",
    "show_truth()"
   ]
  },
  {
   "cell_type": "code",
   "execution_count": 2,
   "id": "48986c5d",
   "metadata": {},
   "outputs": [
    {
     "name": "stdout",
     "output_type": "stream",
     "text": [
      "Surprise!\n"
     ]
    }
   ],
   "source": [
    "def show_truth():\n",
    "    mysterious_var = 'Surprise!'\n",
    "    print(mysterious_var)\n",
    "\n",
    "show_truth()"
   ]
  },
  {
   "cell_type": "code",
   "execution_count": 4,
   "id": "f88d7e27",
   "metadata": {},
   "outputs": [
    {
     "name": "stdout",
     "output_type": "stream",
     "text": [
      "Surprise!\n"
     ]
    }
   ],
   "source": [
    "def show_truth():\n",
    "    print(mysterious_var)\n",
    "\n",
    "mysterious_var = 'Surprise!'\n",
    "show_truth()"
   ]
  },
  {
   "cell_type": "code",
   "execution_count": null,
   "id": "3fc69b98",
   "metadata": {},
   "outputs": [
    {
     "name": "stdout",
     "output_type": "stream",
     "text": [
      "Surprise!\n",
      "New Surprise!\n",
      "Surprise!\n"
     ]
    }
   ],
   "source": [
    "# shadowing\n",
    "\n",
    "def show_truth():\n",
    "    # local variable\n",
    "    mysterious_var = 'New Surprise!'\n",
    "    print(mysterious_var)\n",
    "\n",
    "# global variable\n",
    "mysterious_var = 'Surprise!'\n",
    "\n",
    "print(mysterious_var)\n",
    "# prints local variable\n",
    "show_truth()\n",
    "# prints global variable\n",
    "print(mysterious_var)"
   ]
  },
  {
   "cell_type": "code",
   "execution_count": null,
   "id": "f3e0caba",
   "metadata": {},
   "outputs": [
    {
     "name": "stdout",
     "output_type": "stream",
     "text": [
      "Surprise!\n",
      "New Surprise!\n",
      "New Surprise!\n"
     ]
    }
   ],
   "source": [
    "def show_truth():\n",
    "    # making the variable inside the function global\n",
    "    # this is NOT a best practice\n",
    "    global mysterious_var\n",
    "\n",
    "    mysterious_var = 'New Surprise!'\n",
    "    print(mysterious_var)\n",
    "\n",
    "mysterious_var = 'Surprise!'\n",
    "\n",
    "print(mysterious_var)\n",
    "show_truth()\n",
    "print(mysterious_var)"
   ]
  },
  {
   "cell_type": "code",
   "execution_count": 8,
   "id": "1a55011e",
   "metadata": {},
   "outputs": [
    {
     "name": "stdout",
     "output_type": "stream",
     "text": [
      "['Surprise!']\n",
      "['New Surprise!']\n",
      "['Surprise!']\n"
     ]
    }
   ],
   "source": [
    "def show_truth():\n",
    "    mysterious_var = ['New Surprise!']\n",
    "    print(mysterious_var)\n",
    "\n",
    "mysterious_var = ['Surprise!']\n",
    "\n",
    "print(mysterious_var)\n",
    "show_truth()\n",
    "print(mysterious_var)"
   ]
  },
  {
   "cell_type": "code",
   "execution_count": 10,
   "id": "9aa99756",
   "metadata": {},
   "outputs": [
    {
     "name": "stdout",
     "output_type": "stream",
     "text": [
      "['Surprise!']\n",
      "['Surprise!', 'New Surprise!']\n",
      "['Surprise!', 'New Surprise!']\n"
     ]
    }
   ],
   "source": [
    "# any method changes will reflect even after exiting the function\n",
    "# will also happen with dictionaries (mutable)\n",
    "def show_truth():\n",
    "    mysterious_var.append('New Surprise!')\n",
    "    print(mysterious_var)\n",
    "\n",
    "mysterious_var = ['Surprise!']\n",
    "\n",
    "print(mysterious_var)\n",
    "show_truth()\n",
    "print(mysterious_var)"
   ]
  },
  {
   "cell_type": "code",
   "execution_count": null,
   "id": "cc5b6198",
   "metadata": {},
   "outputs": [],
   "source": []
  }
 ],
 "metadata": {
  "kernelspec": {
   "display_name": "Python 3",
   "language": "python",
   "name": "python3"
  },
  "language_info": {
   "codemirror_mode": {
    "name": "ipython",
    "version": 3
   },
   "file_extension": ".py",
   "mimetype": "text/x-python",
   "name": "python",
   "nbconvert_exporter": "python",
   "pygments_lexer": "ipython3",
   "version": "3.13.7"
  }
 },
 "nbformat": 4,
 "nbformat_minor": 5
}
