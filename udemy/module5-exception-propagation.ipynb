{
 "cells": [
  {
   "cell_type": "code",
   "execution_count": 6,
   "id": "b67ce703",
   "metadata": {},
   "outputs": [
    {
     "name": "stdout",
     "output_type": "stream",
     "text": [
      "Hi, I will collect some info about your bday!\n",
      "So your bday is [1, 1, 2001]\n"
     ]
    }
   ],
   "source": [
    "def get_day(user_info):\n",
    "    day = int(input('What is the day of your birthday? '))\n",
    "    user_info.append(day)\n",
    "\n",
    "def get_month(user_info):\n",
    "    month = int(input('What is the month (1-12) of your birthday? '))\n",
    "    user_info.append(month)\n",
    "\n",
    "def get_year(user_info):\n",
    "    year = int(input('What is the year of your birthday? '))\n",
    "    user_info.append(year)\n",
    "\n",
    "def get_user_bday(user_info):\n",
    "    try:\n",
    "        get_day(user_info)\n",
    "        get_month(user_info)\n",
    "        get_year(user_info)\n",
    "        print(f'So your bday is {user_info}')\n",
    "    except ValueError:\n",
    "        print('You entered incorrect data, bye!')\n",
    "\n",
    "print('Hi, I will collect some info about your bday!')\n",
    "user_info = []\n",
    "get_user_bday(user_info)"
   ]
  },
  {
   "cell_type": "code",
   "execution_count": null,
   "id": "cc26bbe7",
   "metadata": {},
   "outputs": [],
   "source": []
  }
 ],
 "metadata": {
  "kernelspec": {
   "display_name": "Python 3",
   "language": "python",
   "name": "python3"
  },
  "language_info": {
   "codemirror_mode": {
    "name": "ipython",
    "version": 3
   },
   "file_extension": ".py",
   "mimetype": "text/x-python",
   "name": "python",
   "nbconvert_exporter": "python",
   "pygments_lexer": "ipython3",
   "version": "3.13.7"
  }
 },
 "nbformat": 4,
 "nbformat_minor": 5
}
