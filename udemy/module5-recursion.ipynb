{
 "cells": [
  {
   "cell_type": "code",
   "execution_count": null,
   "id": "ddf19241",
   "metadata": {},
   "outputs": [],
   "source": [
    "# iterative\n",
    "def get_factorial(number):\n",
    "    factorial = 1\n",
    "    for x in range(1, number + 1):\n",
    "        factorial *= x \n",
    "    return factorial"
   ]
  },
  {
   "cell_type": "code",
   "execution_count": 4,
   "id": "1edfa87c",
   "metadata": {},
   "outputs": [
    {
     "data": {
      "text/plain": [
       "6"
      ]
     },
     "execution_count": 4,
     "metadata": {},
     "output_type": "execute_result"
    }
   ],
   "source": [
    "get_factorial(3)"
   ]
  },
  {
   "cell_type": "code",
   "execution_count": null,
   "id": "44d8fd9a",
   "metadata": {},
   "outputs": [],
   "source": [
    "def get_factorial_recursive(number):\n",
    "    # stop condition\n",
    "    if number <= 1:\n",
    "        return 1\n",
    "    return number * get_factorial_recursive(number - 1)"
   ]
  },
  {
   "cell_type": "code",
   "execution_count": null,
   "id": "f6fc7f88",
   "metadata": {},
   "outputs": [
    {
     "data": {
      "text/plain": [
       "6"
      ]
     },
     "execution_count": 6,
     "metadata": {},
     "output_type": "execute_result"
    },
    {
     "ename": "",
     "evalue": "",
     "output_type": "error",
     "traceback": [
      "\u001b[1;31mThe Kernel crashed while executing code in the current cell or a previous cell. \n",
      "\u001b[1;31mPlease review the code in the cell(s) to identify a possible cause of the failure. \n",
      "\u001b[1;31mClick <a href='https://aka.ms/vscodeJupyterKernelCrash'>here</a> for more info. \n",
      "\u001b[1;31mView Jupyter <a href='command:jupyter.viewOutput'>log</a> for further details."
     ]
    }
   ],
   "source": [
    "get_factorial_recursive(3)"
   ]
  },
  {
   "cell_type": "code",
   "execution_count": null,
   "id": "23164d06",
   "metadata": {},
   "outputs": [],
   "source": []
  }
 ],
 "metadata": {
  "kernelspec": {
   "display_name": "Python 3",
   "language": "python",
   "name": "python3"
  },
  "language_info": {
   "codemirror_mode": {
    "name": "ipython",
    "version": 3
   },
   "file_extension": ".py",
   "mimetype": "text/x-python",
   "name": "python",
   "nbconvert_exporter": "python",
   "pygments_lexer": "ipython3",
   "version": "3.13.7"
  }
 },
 "nbformat": 4,
 "nbformat_minor": 5
}
