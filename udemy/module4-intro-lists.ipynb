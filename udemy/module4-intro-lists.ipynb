{
 "cells": [
  {
   "cell_type": "code",
   "execution_count": 1,
   "id": "1786d1ad",
   "metadata": {},
   "outputs": [],
   "source": [
    "# Lists\n",
    "empty_list = []"
   ]
  },
  {
   "cell_type": "code",
   "execution_count": null,
   "id": "7da50383",
   "metadata": {},
   "outputs": [
    {
     "name": "stdout",
     "output_type": "stream",
     "text": [
      "['New York City', 'Los Angeles', 'Chicago', 'Houston', 'Phoenix']\n",
      "Chicago\n"
     ]
    }
   ],
   "source": [
    "top_cities = ['New York City', 'Los Angeles', 'Chicago', 'Houston', 'Phoenix']\n",
    "print(top_cities)"
   ]
  },
  {
   "cell_type": "code",
   "execution_count": 4,
   "id": "31083467",
   "metadata": {},
   "outputs": [
    {
     "name": "stdout",
     "output_type": "stream",
     "text": [
      "Los Angeles\n"
     ]
    }
   ],
   "source": [
    "print(top_cities[1])"
   ]
  },
  {
   "cell_type": "code",
   "execution_count": 5,
   "id": "3bf837d4",
   "metadata": {},
   "outputs": [
    {
     "data": {
      "text/plain": [
       "'Phoenix'"
      ]
     },
     "execution_count": 5,
     "metadata": {},
     "output_type": "execute_result"
    }
   ],
   "source": [
    "top_cities[-1]"
   ]
  },
  {
   "cell_type": "code",
   "execution_count": 6,
   "id": "efd06b79",
   "metadata": {},
   "outputs": [
    {
     "data": {
      "text/plain": [
       "'Houston'"
      ]
     },
     "execution_count": 6,
     "metadata": {},
     "output_type": "execute_result"
    }
   ],
   "source": [
    "top_cities[-2]"
   ]
  },
  {
   "cell_type": "code",
   "execution_count": 8,
   "id": "c6ea6852",
   "metadata": {},
   "outputs": [
    {
     "data": {
      "text/plain": [
       "['New York City', 'Los Angeles', 'Chicago']"
      ]
     },
     "execution_count": 8,
     "metadata": {},
     "output_type": "execute_result"
    }
   ],
   "source": [
    "top_cities[0:3]"
   ]
  },
  {
   "cell_type": "code",
   "execution_count": 9,
   "id": "21d76544",
   "metadata": {},
   "outputs": [
    {
     "data": {
      "text/plain": [
       "['Chicago', 'Houston', 'Phoenix']"
      ]
     },
     "execution_count": 9,
     "metadata": {},
     "output_type": "execute_result"
    }
   ],
   "source": [
    "top_cities[2:]"
   ]
  },
  {
   "cell_type": "code",
   "execution_count": 10,
   "id": "e5d18ebb",
   "metadata": {},
   "outputs": [
    {
     "data": {
      "text/plain": [
       "['New York City', 'Los Angeles', 'Chicago']"
      ]
     },
     "execution_count": 10,
     "metadata": {},
     "output_type": "execute_result"
    }
   ],
   "source": [
    "top_cities[:3]"
   ]
  },
  {
   "cell_type": "code",
   "execution_count": 11,
   "id": "fd26dbe8",
   "metadata": {},
   "outputs": [
    {
     "data": {
      "text/plain": [
       "['New York City', 'Los Angeles', 'Chicago', 'Houston', 'Phoenix']"
      ]
     },
     "execution_count": 11,
     "metadata": {},
     "output_type": "execute_result"
    }
   ],
   "source": [
    "top_cities[:]"
   ]
  },
  {
   "cell_type": "code",
   "execution_count": 12,
   "id": "05535a40",
   "metadata": {},
   "outputs": [
    {
     "data": {
      "text/plain": [
       "[]"
      ]
     },
     "execution_count": 12,
     "metadata": {},
     "output_type": "execute_result"
    }
   ],
   "source": [
    "top_cities[10:15]"
   ]
  },
  {
   "cell_type": "code",
   "execution_count": null,
   "id": "151a666c",
   "metadata": {},
   "outputs": [
    {
     "data": {
      "text/plain": [
       "'New York City'"
      ]
     },
     "execution_count": 14,
     "metadata": {},
     "output_type": "execute_result"
    }
   ],
   "source": [
    "top_cities[0]"
   ]
  },
  {
   "cell_type": "code",
   "execution_count": 15,
   "id": "7519753f",
   "metadata": {},
   "outputs": [
    {
     "data": {
      "text/plain": [
       "['New York City']"
      ]
     },
     "execution_count": 15,
     "metadata": {},
     "output_type": "execute_result"
    }
   ],
   "source": [
    "top_cities[0:1]"
   ]
  },
  {
   "cell_type": "code",
   "execution_count": null,
   "id": "1fde778b",
   "metadata": {},
   "outputs": [],
   "source": []
  }
 ],
 "metadata": {
  "kernelspec": {
   "display_name": "Python 3",
   "language": "python",
   "name": "python3"
  },
  "language_info": {
   "codemirror_mode": {
    "name": "ipython",
    "version": 3
   },
   "file_extension": ".py",
   "mimetype": "text/x-python",
   "name": "python",
   "nbconvert_exporter": "python",
   "pygments_lexer": "ipython3",
   "version": "3.13.7"
  }
 },
 "nbformat": 4,
 "nbformat_minor": 5
}
