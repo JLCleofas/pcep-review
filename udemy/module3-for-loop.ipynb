{
 "cells": [
  {
   "cell_type": "code",
   "execution_count": 3,
   "id": "bbb176e9",
   "metadata": {},
   "outputs": [
    {
     "name": "stdout",
     "output_type": "stream",
     "text": [
      "Current letter:  h\n",
      "Current letter:  e\n",
      "Current letter:  l\n",
      "Current letter:  l\n",
      "Current letter:  o\n",
      "Current letter:  !\n"
     ]
    }
   ],
   "source": [
    "for letter in 'hello!':\n",
    "    print('Current letter: ', letter)"
   ]
  },
  {
   "cell_type": "code",
   "execution_count": 8,
   "id": "e143fe12",
   "metadata": {},
   "outputs": [
    {
     "name": "stdout",
     "output_type": "stream",
     "text": [
      "1\n",
      "2\n",
      "3\n",
      "4\n",
      "5\n",
      "6\n",
      "7\n",
      "8\n",
      "9\n",
      "10\n",
      "Finished!\n"
     ]
    }
   ],
   "source": [
    "for counter in range(1,11):\n",
    "    print(counter)\n",
    "print('Finished!')"
   ]
  },
  {
   "cell_type": "code",
   "execution_count": 9,
   "id": "8b348493",
   "metadata": {},
   "outputs": [
    {
     "name": "stdout",
     "output_type": "stream",
     "text": [
      "1\n",
      "3\n",
      "5\n",
      "7\n",
      "9\n",
      "Finished!\n"
     ]
    }
   ],
   "source": [
    "for counter in range(1,11,2):\n",
    "    print(counter)\n",
    "print('Finished!')"
   ]
  },
  {
   "cell_type": "code",
   "execution_count": 10,
   "id": "ddc76076",
   "metadata": {},
   "outputs": [
    {
     "name": "stdout",
     "output_type": "stream",
     "text": [
      "0\n",
      "1\n",
      "2\n",
      "3\n",
      "4\n",
      "5\n",
      "6\n",
      "7\n",
      "8\n",
      "9\n",
      "10\n",
      "Finished!\n"
     ]
    }
   ],
   "source": [
    "for counter in range(11):\n",
    "    print(counter)\n",
    "print('Finished!')"
   ]
  },
  {
   "cell_type": "code",
   "execution_count": null,
   "id": "4cf8943c",
   "metadata": {},
   "outputs": [],
   "source": []
  }
 ],
 "metadata": {
  "kernelspec": {
   "display_name": "Python 3",
   "language": "python",
   "name": "python3"
  },
  "language_info": {
   "codemirror_mode": {
    "name": "ipython",
    "version": 3
   },
   "file_extension": ".py",
   "mimetype": "text/x-python",
   "name": "python",
   "nbconvert_exporter": "python",
   "pygments_lexer": "ipython3",
   "version": "3.13.7"
  }
 },
 "nbformat": 4,
 "nbformat_minor": 5
}
