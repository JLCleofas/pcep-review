{
 "cells": [
  {
   "cell_type": "code",
   "execution_count": 4,
   "id": "06063064",
   "metadata": {},
   "outputs": [
    {
     "name": "stdout",
     "output_type": "stream",
     "text": [
      "PLEASE CAPITALIZE ME\n"
     ]
    }
   ],
   "source": [
    "text = 'please capitalize me'\n",
    "text_cap = text.upper()\n",
    "print(text_cap)"
   ]
  },
  {
   "cell_type": "code",
   "execution_count": 6,
   "id": "0a5946c8",
   "metadata": {},
   "outputs": [
    {
     "name": "stdout",
     "output_type": "stream",
     "text": [
      "Sorry, Hi is not a number!\n"
     ]
    }
   ],
   "source": [
    "user_number = input('Please provide a number: ')\n",
    "if user_number.isnumeric():\n",
    "    print('Thank you, that\\'s a correct number!')\n",
    "else:\n",
    "    print('Sorry,', user_number, 'is not a number!')"
   ]
  },
  {
   "cell_type": "code",
   "execution_count": null,
   "id": "8b959649",
   "metadata": {},
   "outputs": [],
   "source": [
    "# FOR MORE PLEASE VISIT PYTHON DOCS FOR STRINGS"
   ]
  }
 ],
 "metadata": {
  "kernelspec": {
   "display_name": "Python 3",
   "language": "python",
   "name": "python3"
  },
  "language_info": {
   "codemirror_mode": {
    "name": "ipython",
    "version": 3
   },
   "file_extension": ".py",
   "mimetype": "text/x-python",
   "name": "python",
   "nbconvert_exporter": "python",
   "pygments_lexer": "ipython3",
   "version": "3.13.7"
  }
 },
 "nbformat": 4,
 "nbformat_minor": 5
}
