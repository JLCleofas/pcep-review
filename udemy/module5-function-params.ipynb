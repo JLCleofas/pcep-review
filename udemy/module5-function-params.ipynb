{
 "cells": [
  {
   "cell_type": "code",
   "execution_count": 6,
   "id": "c57482d0",
   "metadata": {},
   "outputs": [
    {
     "name": "stdout",
     "output_type": "stream",
     "text": [
      "7.24\n"
     ]
    }
   ],
   "source": [
    "def get_average(input_numbers):\n",
    "    sum = 0.0\n",
    "    for number in input_numbers:\n",
    "        sum += number\n",
    "    average = sum / len(input_numbers)\n",
    "    print(average)\n",
    "get_average([5.0, 3.5, 7.8, 9.9, 10.0])"
   ]
  },
  {
   "cell_type": "code",
   "execution_count": 7,
   "id": "ec3b3de0",
   "metadata": {},
   "outputs": [
    {
     "ename": "TypeError",
     "evalue": "'int' object is not iterable",
     "output_type": "error",
     "traceback": [
      "\u001b[31m---------------------------------------------------------------------------\u001b[39m",
      "\u001b[31mTypeError\u001b[39m                                 Traceback (most recent call last)",
      "\u001b[36mCell\u001b[39m\u001b[36m \u001b[39m\u001b[32mIn[7]\u001b[39m\u001b[32m, line 1\u001b[39m\n\u001b[32m----> \u001b[39m\u001b[32m1\u001b[39m \u001b[43mget_average\u001b[49m\u001b[43m(\u001b[49m\u001b[32;43m5\u001b[39;49m\u001b[43m)\u001b[49m\n",
      "\u001b[36mCell\u001b[39m\u001b[36m \u001b[39m\u001b[32mIn[6]\u001b[39m\u001b[32m, line 3\u001b[39m, in \u001b[36mget_average\u001b[39m\u001b[34m(input_numbers)\u001b[39m\n\u001b[32m      1\u001b[39m \u001b[38;5;28;01mdef\u001b[39;00m\u001b[38;5;250m \u001b[39m\u001b[34mget_average\u001b[39m(input_numbers):\n\u001b[32m      2\u001b[39m     \u001b[38;5;28msum\u001b[39m = \u001b[32m0.0\u001b[39m\n\u001b[32m----> \u001b[39m\u001b[32m3\u001b[39m \u001b[43m    \u001b[49m\u001b[38;5;28;43;01mfor\u001b[39;49;00m\u001b[43m \u001b[49m\u001b[43mnumber\u001b[49m\u001b[43m \u001b[49m\u001b[38;5;129;43;01min\u001b[39;49;00m\u001b[43m \u001b[49m\u001b[43minput_numbers\u001b[49m\u001b[43m:\u001b[49m\n\u001b[32m      4\u001b[39m \u001b[43m        \u001b[49m\u001b[38;5;28;43msum\u001b[39;49m\u001b[43m \u001b[49m\u001b[43m+\u001b[49m\u001b[43m=\u001b[49m\u001b[43m \u001b[49m\u001b[43mnumber\u001b[49m\n\u001b[32m      5\u001b[39m     average = \u001b[38;5;28msum\u001b[39m / \u001b[38;5;28mlen\u001b[39m(input_numbers)\n",
      "\u001b[31mTypeError\u001b[39m: 'int' object is not iterable"
     ]
    }
   ],
   "source": [
    "get_average(5)"
   ]
  },
  {
   "cell_type": "code",
   "execution_count": 8,
   "id": "57e3e58f",
   "metadata": {},
   "outputs": [
    {
     "ename": "TypeError",
     "evalue": "get_average() missing 1 required positional argument: 'input_numbers'",
     "output_type": "error",
     "traceback": [
      "\u001b[31m---------------------------------------------------------------------------\u001b[39m",
      "\u001b[31mTypeError\u001b[39m                                 Traceback (most recent call last)",
      "\u001b[36mCell\u001b[39m\u001b[36m \u001b[39m\u001b[32mIn[8]\u001b[39m\u001b[32m, line 1\u001b[39m\n\u001b[32m----> \u001b[39m\u001b[32m1\u001b[39m \u001b[43mget_average\u001b[49m\u001b[43m(\u001b[49m\u001b[43m)\u001b[49m\n",
      "\u001b[31mTypeError\u001b[39m: get_average() missing 1 required positional argument: 'input_numbers'"
     ]
    }
   ],
   "source": [
    "get_average()"
   ]
  },
  {
   "cell_type": "code",
   "execution_count": 12,
   "id": "2555a6fd",
   "metadata": {},
   "outputs": [],
   "source": [
    "def print_letter_count(text, letter):\n",
    "    counter = 0\n",
    "    for char in text:\n",
    "        if char ==  letter:\n",
    "            counter += 1\n",
    "    print(f'Number of \\'{letter}\\' is {counter}')"
   ]
  },
  {
   "cell_type": "code",
   "execution_count": 13,
   "id": "fd7c319a",
   "metadata": {},
   "outputs": [
    {
     "name": "stdout",
     "output_type": "stream",
     "text": [
      "Number of 'e' is 2\n"
     ]
    }
   ],
   "source": [
    "print_letter_count('Welcome', 'e')"
   ]
  },
  {
   "cell_type": "code",
   "execution_count": 14,
   "id": "838f492b",
   "metadata": {},
   "outputs": [
    {
     "name": "stdout",
     "output_type": "stream",
     "text": [
      "Number of 'e' is 2\n"
     ]
    }
   ],
   "source": [
    "print_letter_count(text='Welcome', letter='e')"
   ]
  },
  {
   "cell_type": "code",
   "execution_count": 15,
   "id": "24e54e3e",
   "metadata": {},
   "outputs": [
    {
     "name": "stdout",
     "output_type": "stream",
     "text": [
      "Number of 'e' is 2\n"
     ]
    }
   ],
   "source": [
    "print_letter_count(letter='e', text='Welcome')"
   ]
  },
  {
   "cell_type": "code",
   "execution_count": null,
   "id": "812a916e",
   "metadata": {},
   "outputs": [],
   "source": []
  }
 ],
 "metadata": {
  "kernelspec": {
   "display_name": "Python 3",
   "language": "python",
   "name": "python3"
  },
  "language_info": {
   "codemirror_mode": {
    "name": "ipython",
    "version": 3
   },
   "file_extension": ".py",
   "mimetype": "text/x-python",
   "name": "python",
   "nbconvert_exporter": "python",
   "pygments_lexer": "ipython3",
   "version": "3.13.7"
  }
 },
 "nbformat": 4,
 "nbformat_minor": 5
}
