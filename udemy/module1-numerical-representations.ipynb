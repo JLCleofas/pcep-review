{
 "cells": [
  {
   "cell_type": "code",
   "execution_count": null,
   "id": "2bd65625",
   "metadata": {},
   "outputs": [],
   "source": [
    "# underscores in numbers\n",
    "120000300\n",
    "12_000_300"
   ]
  },
  {
   "cell_type": "code",
   "execution_count": null,
   "id": "25af3c99",
   "metadata": {},
   "outputs": [],
   "source": [
    "# scienific notation\n",
    "# 3e4 = 3E4 = 3 * 10000 = 30000\n",
    "# 3e-4 = 3E-4 = 3 * 1/10000 = 0.0003"
   ]
  },
  {
   "cell_type": "code",
   "execution_count": 1,
   "id": "2553d3fc",
   "metadata": {},
   "outputs": [
    {
     "name": "stdout",
     "output_type": "stream",
     "text": [
      "83\n"
     ]
    }
   ],
   "source": [
    "# Octal numbers\n",
    "# start with 0O or 0o\n",
    "print(0o123)"
   ]
  },
  {
   "cell_type": "code",
   "execution_count": 2,
   "id": "f38fac3d",
   "metadata": {},
   "outputs": [
    {
     "name": "stdout",
     "output_type": "stream",
     "text": [
      "291\n"
     ]
    }
   ],
   "source": [
    "# hexadecimal numbers\n",
    "# start with 0X or 0x\n",
    "print(0x123)"
   ]
  },
  {
   "cell_type": "code",
   "execution_count": null,
   "id": "f8aaad9a",
   "metadata": {},
   "outputs": [],
   "source": []
  }
 ],
 "metadata": {
  "kernelspec": {
   "display_name": "Python 3",
   "language": "python",
   "name": "python3"
  },
  "language_info": {
   "codemirror_mode": {
    "name": "ipython",
    "version": 3
   },
   "file_extension": ".py",
   "mimetype": "text/x-python",
   "name": "python",
   "nbconvert_exporter": "python",
   "pygments_lexer": "ipython3",
   "version": "3.13.1"
  }
 },
 "nbformat": 4,
 "nbformat_minor": 5
}
