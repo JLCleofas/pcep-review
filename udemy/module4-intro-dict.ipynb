{
 "cells": [
  {
   "cell_type": "code",
   "execution_count": 1,
   "id": "8a4bedbe",
   "metadata": {},
   "outputs": [],
   "source": [
    "emails = {\n",
    "    'Anne Stahl': 'astahl@gmail.com',\n",
    "    'Peter Small': 'peters@yandex.com',\n",
    "    'Mark Steel': 'mark@steel.com'\n",
    "}"
   ]
  },
  {
   "cell_type": "code",
   "execution_count": 2,
   "id": "c184c496",
   "metadata": {},
   "outputs": [
    {
     "name": "stdout",
     "output_type": "stream",
     "text": [
      "mark@steel.com\n"
     ]
    }
   ],
   "source": [
    "print(emails['Mark Steel'])"
   ]
  },
  {
   "cell_type": "code",
   "execution_count": 3,
   "id": "3834d716",
   "metadata": {},
   "outputs": [],
   "source": [
    "spanish_animals = {\n",
    "    'dog': 'el perro',\n",
    "    'cat': 'el gato',\n",
    "    'horse': 'el caballo',\n",
    "    'bird': 'el pajaro'\n",
    "}"
   ]
  },
  {
   "cell_type": "code",
   "execution_count": 4,
   "id": "9dd540b8",
   "metadata": {},
   "outputs": [
    {
     "name": "stdout",
     "output_type": "stream",
     "text": [
      "el pajaro\n"
     ]
    }
   ],
   "source": [
    "print(spanish_animals['bird'])"
   ]
  },
  {
   "cell_type": "code",
   "execution_count": null,
   "id": "4301d622",
   "metadata": {},
   "outputs": [],
   "source": [
    "# Dictionaries will replace old value with the latest value:\n",
    "spanish_animals = {\n",
    "    'dog': 'el perro',\n",
    "    'cat': 'el gato',\n",
    "    'horse': 'el caballo',\n",
    "    'bird': 'el pajaro',\n",
    "    'bird': 'el ave'\n",
    "}"
   ]
  },
  {
   "cell_type": "code",
   "execution_count": 6,
   "id": "99dcbbd7",
   "metadata": {},
   "outputs": [
    {
     "name": "stdout",
     "output_type": "stream",
     "text": [
      "{'dog': 'el perro', 'cat': 'el gato', 'horse': 'el caballo', 'bird': 'el ave'}\n"
     ]
    }
   ],
   "source": [
    "print(spanish_animals)"
   ]
  },
  {
   "cell_type": "code",
   "execution_count": 7,
   "id": "02b0302e",
   "metadata": {},
   "outputs": [],
   "source": [
    "tennis_ranking = {\n",
    "    1: 'Ashleigh Barty',\n",
    "    2: 'Naomi Osaka',\n",
    "    3: 'Simona Halep'\n",
    "}"
   ]
  },
  {
   "cell_type": "code",
   "execution_count": null,
   "id": "5a0c77ef",
   "metadata": {},
   "outputs": [
    {
     "ename": "TypeError",
     "evalue": "unhashable type: 'list'",
     "output_type": "error",
     "traceback": [
      "\u001b[31m---------------------------------------------------------------------------\u001b[39m",
      "\u001b[31mTypeError\u001b[39m                                 Traceback (most recent call last)",
      "\u001b[36mCell\u001b[39m\u001b[36m \u001b[39m\u001b[32mIn[8]\u001b[39m\u001b[32m, line 1\u001b[39m\n\u001b[32m----> \u001b[39m\u001b[32m1\u001b[39m tennis_ranking = {\n\u001b[32m      2\u001b[39m     [\u001b[32m1\u001b[39m]: \u001b[33m'\u001b[39m\u001b[33mAshleigh Barty\u001b[39m\u001b[33m'\u001b[39m,\n\u001b[32m      3\u001b[39m     [\u001b[32m2\u001b[39m]: \u001b[33m'\u001b[39m\u001b[33mNaomi Osaka\u001b[39m\u001b[33m'\u001b[39m,\n\u001b[32m      4\u001b[39m     [\u001b[32m3\u001b[39m]: \u001b[33m'\u001b[39m\u001b[33mSimona Halep\u001b[39m\u001b[33m'\u001b[39m\n\u001b[32m      5\u001b[39m }\n",
      "\u001b[31mTypeError\u001b[39m: unhashable type: 'list'"
     ]
    }
   ],
   "source": [
    "# Dictionaries cannot have mutable keys\n",
    "tennis_ranking = {\n",
    "    [1]: 'Ashleigh Barty',\n",
    "    [2]: 'Naomi Osaka',\n",
    "    [3]: 'Simona Halep'\n",
    "}"
   ]
  },
  {
   "cell_type": "code",
   "execution_count": null,
   "id": "63930e19",
   "metadata": {},
   "outputs": [],
   "source": [
    "# But lists can be values\n",
    "city_ratings = {\n",
    "    'Bangkok': [7, 4, 2, 8],\n",
    "    'Hanoi': [5, 7, 1, 8],\n",
    "    'Manila': [7, 3, 8, 2]\n",
    "}"
   ]
  },
  {
   "cell_type": "code",
   "execution_count": null,
   "id": "223a5b39",
   "metadata": {},
   "outputs": [],
   "source": []
  }
 ],
 "metadata": {
  "kernelspec": {
   "display_name": "Python 3",
   "language": "python",
   "name": "python3"
  },
  "language_info": {
   "codemirror_mode": {
    "name": "ipython",
    "version": 3
   },
   "file_extension": ".py",
   "mimetype": "text/x-python",
   "name": "python",
   "nbconvert_exporter": "python",
   "pygments_lexer": "ipython3",
   "version": "3.13.7"
  }
 },
 "nbformat": 4,
 "nbformat_minor": 5
}
