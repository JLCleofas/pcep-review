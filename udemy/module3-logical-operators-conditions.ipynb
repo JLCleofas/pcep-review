{
 "cells": [
  {
   "cell_type": "code",
   "execution_count": 1,
   "id": "e5ae3966",
   "metadata": {},
   "outputs": [],
   "source": [
    "# logical operators\n",
    "#\n",
    "# < \n",
    "# >\n",
    "# <=\n",
    "# >= \n",
    "# == \n",
    "# !="
   ]
  },
  {
   "cell_type": "code",
   "execution_count": 3,
   "id": "f3e29543",
   "metadata": {},
   "outputs": [
    {
     "name": "stdout",
     "output_type": "stream",
     "text": [
      "Correct password\n"
     ]
    }
   ],
   "source": [
    "password = input('Do you know the secret password? ')\n",
    "if password != '--secret':\n",
    "    print('Not correct')\n",
    "else:\n",
    "    print('Correct password')"
   ]
  },
  {
   "cell_type": "code",
   "execution_count": null,
   "id": "94c3816e",
   "metadata": {},
   "outputs": [],
   "source": []
  },
  {
   "cell_type": "code",
   "execution_count": null,
   "id": "d4a05986",
   "metadata": {},
   "outputs": [],
   "source": []
  }
 ],
 "metadata": {
  "kernelspec": {
   "display_name": "Python 3",
   "language": "python",
   "name": "python3"
  },
  "language_info": {
   "codemirror_mode": {
    "name": "ipython",
    "version": 3
   },
   "file_extension": ".py",
   "mimetype": "text/x-python",
   "name": "python",
   "nbconvert_exporter": "python",
   "pygments_lexer": "ipython3",
   "version": "3.13.1"
  }
 },
 "nbformat": 4,
 "nbformat_minor": 5
}
