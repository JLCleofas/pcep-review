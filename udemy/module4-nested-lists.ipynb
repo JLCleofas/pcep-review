{
 "cells": [
  {
   "cell_type": "code",
   "execution_count": 2,
   "id": "35284f59",
   "metadata": {},
   "outputs": [],
   "source": [
    "countries = [1, 'UK', 2, 'US']"
   ]
  },
  {
   "cell_type": "code",
   "execution_count": 7,
   "id": "ee578e2f",
   "metadata": {},
   "outputs": [],
   "source": [
    "cells = [['A1', 'A2', 'A3'], ['B1', 'B2', 'B3']]"
   ]
  },
  {
   "cell_type": "code",
   "execution_count": 8,
   "id": "dd20a8c1",
   "metadata": {},
   "outputs": [
    {
     "data": {
      "text/plain": [
       "['A1', 'A2', 'A3']"
      ]
     },
     "execution_count": 8,
     "metadata": {},
     "output_type": "execute_result"
    }
   ],
   "source": [
    "cells[0]"
   ]
  },
  {
   "cell_type": "code",
   "execution_count": 9,
   "id": "0608e492",
   "metadata": {},
   "outputs": [
    {
     "data": {
      "text/plain": [
       "'A1'"
      ]
     },
     "execution_count": 9,
     "metadata": {},
     "output_type": "execute_result"
    }
   ],
   "source": [
    "cells[0][0]"
   ]
  },
  {
   "cell_type": "code",
   "execution_count": 10,
   "id": "f7dd5eb1",
   "metadata": {},
   "outputs": [
    {
     "data": {
      "text/plain": [
       "'A2'"
      ]
     },
     "execution_count": 10,
     "metadata": {},
     "output_type": "execute_result"
    }
   ],
   "source": [
    "cells[0][1]"
   ]
  },
  {
   "cell_type": "code",
   "execution_count": 11,
   "id": "faf76298",
   "metadata": {},
   "outputs": [
    {
     "data": {
      "text/plain": [
       "'B1'"
      ]
     },
     "execution_count": 11,
     "metadata": {},
     "output_type": "execute_result"
    }
   ],
   "source": [
    "cells[1][0]"
   ]
  },
  {
   "cell_type": "code",
   "execution_count": 12,
   "id": "482f3d80",
   "metadata": {},
   "outputs": [
    {
     "name": "stdout",
     "output_type": "stream",
     "text": [
      "Element: ['A1', 'A2', 'A3']\n",
      "Element: ['B1', 'B2', 'B3']\n"
     ]
    }
   ],
   "source": [
    "cells = [['A1', 'A2', 'A3'], ['B1', 'B2', 'B3']]\n",
    "for x in cells:\n",
    "    print('Element:', x)"
   ]
  },
  {
   "cell_type": "code",
   "execution_count": 13,
   "id": "8da954d8",
   "metadata": {},
   "outputs": [
    {
     "name": "stdout",
     "output_type": "stream",
     "text": [
      "Element: A1\n",
      "Element: A2\n",
      "Element: A3\n",
      "Element: B1\n",
      "Element: B2\n",
      "Element: B3\n"
     ]
    }
   ],
   "source": [
    "cells = [['A1', 'A2', 'A3'], ['B1', 'B2', 'B3']]\n",
    "for x in cells:\n",
    "    for y in x:\n",
    "        print('Element:', y)"
   ]
  },
  {
   "cell_type": "code",
   "execution_count": 14,
   "id": "8338a88e",
   "metadata": {},
   "outputs": [
    {
     "name": "stdout",
     "output_type": "stream",
     "text": [
      "Element: A1\n",
      "Element: A2\n",
      "Element: A3\n",
      "Element: B1\n",
      "Element: B2\n",
      "Element: B3\n"
     ]
    }
   ],
   "source": [
    "table = [['A1', 'A2', 'A3'], ['B1', 'B2', 'B3']]\n",
    "for row in table:\n",
    "    for cell in row:\n",
    "        print('Element:', cell)"
   ]
  },
  {
   "cell_type": "code",
   "execution_count": 16,
   "id": "bb866033",
   "metadata": {},
   "outputs": [
    {
     "name": "stdout",
     "output_type": "stream",
     "text": [
      "A1 A2 A3 \n",
      "B1 B2 B3 \n"
     ]
    }
   ],
   "source": [
    "table = [['A1', 'A2', 'A3'], ['B1', 'B2', 'B3']]\n",
    "for row in table:\n",
    "    for cell in row:\n",
    "        print(cell, '', end='')\n",
    "    print()"
   ]
  },
  {
   "cell_type": "code",
   "execution_count": 20,
   "id": "3512953a",
   "metadata": {},
   "outputs": [
    {
     "name": "stdout",
     "output_type": "stream",
     "text": [
      "[[1, 2, 3, 4, 5], [1, 2, 3, 4, 5], [1, 2, 3, 4, 5], [1, 2, 3, 4, 5]]\n",
      "[1, 2, 3, 4, 5]\n",
      "[1, 2, 3, 4, 5]\n",
      "[1, 2, 3, 4, 5]\n",
      "[1, 2, 3, 4, 5]\n",
      "\n"
     ]
    }
   ],
   "source": [
    "# 1 2 3 4 5\n",
    "# 1 2 3 4 5\n",
    "# 1 2 3 4 5\n",
    "# 1 2 3 4 5\n",
    "\n",
    "table = [[i for i in range (1, 6)] for j in range (4)]\n",
    "print(table)\n",
    "for x in table:\n",
    "    print(x)\n",
    "print()"
   ]
  },
  {
   "cell_type": "code",
   "execution_count": null,
   "id": "2defc35c",
   "metadata": {},
   "outputs": [],
   "source": []
  }
 ],
 "metadata": {
  "kernelspec": {
   "display_name": "Python 3",
   "language": "python",
   "name": "python3"
  },
  "language_info": {
   "codemirror_mode": {
    "name": "ipython",
    "version": 3
   },
   "file_extension": ".py",
   "mimetype": "text/x-python",
   "name": "python",
   "nbconvert_exporter": "python",
   "pygments_lexer": "ipython3",
   "version": "3.13.7"
  }
 },
 "nbformat": 4,
 "nbformat_minor": 5
}
