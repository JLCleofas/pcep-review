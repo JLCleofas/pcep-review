{
 "cells": [
  {
   "cell_type": "code",
   "execution_count": 3,
   "id": "6c4c66cd",
   "metadata": {},
   "outputs": [
    {
     "name": "stdout",
     "output_type": "stream",
     "text": [
      "You can apply for a German student exchange programme\n"
     ]
    }
   ],
   "source": [
    "user_age = int(input('What is your age? '))\n",
    "user_country = input('What is your country? ')\n",
    "\n",
    "if user_age < 25 and user_country == 'Germany':\n",
    "    print('You can apply for a German student exchange programme')\n",
    "else:\n",
    "    print('Sorry, you do not qualify')"
   ]
  },
  {
   "cell_type": "code",
   "execution_count": 4,
   "id": "4728f69b",
   "metadata": {},
   "outputs": [
    {
     "name": "stdout",
     "output_type": "stream",
     "text": [
      "You can apply for a Scandinavian student exchange programme\n"
     ]
    }
   ],
   "source": [
    "user_country = input('What is you country?')\n",
    "\n",
    "if user_country == 'Sweden' or user_country == 'Denmark' or user_country == 'Norway':\n",
    "    print('You can apply for a Scandinavian student exchange programme')\n",
    "else: \n",
    "    print('Sorry, you do not qualify')"
   ]
  },
  {
   "cell_type": "code",
   "execution_count": null,
   "id": "e3e7adc7",
   "metadata": {},
   "outputs": [
    {
     "name": "stdout",
     "output_type": "stream",
     "text": [
      "You are not from Germany!\n"
     ]
    }
   ],
   "source": [
    "user_country = (input)('Where did you come from? ')\n",
    "if not user_country == 'Germany':\n",
    "    print('You are not from Germany!')\n",
    "else: print('You are from Germany')"
   ]
  },
  {
   "cell_type": "code",
   "execution_count": null,
   "id": "d06df9b3",
   "metadata": {},
   "outputs": [],
   "source": []
  }
 ],
 "metadata": {
  "kernelspec": {
   "display_name": "Python 3",
   "language": "python",
   "name": "python3"
  },
  "language_info": {
   "codemirror_mode": {
    "name": "ipython",
    "version": 3
   },
   "file_extension": ".py",
   "mimetype": "text/x-python",
   "name": "python",
   "nbconvert_exporter": "python",
   "pygments_lexer": "ipython3",
   "version": "3.13.1"
  }
 },
 "nbformat": 4,
 "nbformat_minor": 5
}
