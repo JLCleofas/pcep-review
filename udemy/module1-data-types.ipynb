{
 "cells": [
  {
   "cell_type": "code",
   "execution_count": null,
   "id": "264fc469",
   "metadata": {},
   "outputs": [],
   "source": [
    "greeting = 'Hello, Friend!'"
   ]
  },
  {
   "cell_type": "code",
   "execution_count": null,
   "id": "2b4d3e77",
   "metadata": {},
   "outputs": [],
   "source": []
  }
 ],
 "metadata": {
  "language_info": {
   "name": "python"
  }
 },
 "nbformat": 4,
 "nbformat_minor": 5
}
