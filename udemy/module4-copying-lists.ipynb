{
 "cells": [
  {
   "cell_type": "code",
   "execution_count": 2,
   "id": "ece25003",
   "metadata": {},
   "outputs": [
    {
     "name": "stdout",
     "output_type": "stream",
     "text": [
      "Original: [-5, 2, 3] \n",
      "New: [-5, 2, 3]\n"
     ]
    }
   ],
   "source": [
    "list_original = [1, 2, 3]\n",
    "list_new = list_original\n",
    "list_original[0] = -5\n",
    "print('Original:', list_original, '\\nNew:', list_new)"
   ]
  },
  {
   "cell_type": "code",
   "execution_count": null,
   "id": "7a6cfd3e",
   "metadata": {},
   "outputs": [
    {
     "name": "stdout",
     "output_type": "stream",
     "text": [
      "Original: [-5, 2, 3] \n",
      "New: [1, 2, 3]\n"
     ]
    }
   ],
   "source": [
    "list_original = [1, 2, 3]\n",
    "# Use slicing\n",
    "list_new = list_original[:]\n",
    "list_original[0] = -5\n",
    "print('Original:', list_original, '\\nNew:', list_new)"
   ]
  },
  {
   "cell_type": "code",
   "execution_count": 4,
   "id": "bc62cf8d",
   "metadata": {},
   "outputs": [
    {
     "name": "stdout",
     "output_type": "stream",
     "text": [
      "Original: [-5, 2, 3] \n",
      "New: [1, 2]\n"
     ]
    }
   ],
   "source": [
    "list_original = [1, 2, 3]\n",
    "# Use slicing\n",
    "list_new = list_original[:2]\n",
    "list_original[0] = -5\n",
    "print('Original:', list_original, '\\nNew:', list_new)"
   ]
  },
  {
   "cell_type": "code",
   "execution_count": null,
   "id": "907939a9",
   "metadata": {},
   "outputs": [],
   "source": []
  }
 ],
 "metadata": {
  "kernelspec": {
   "display_name": "Python 3",
   "language": "python",
   "name": "python3"
  },
  "language_info": {
   "codemirror_mode": {
    "name": "ipython",
    "version": 3
   },
   "file_extension": ".py",
   "mimetype": "text/x-python",
   "name": "python",
   "nbconvert_exporter": "python",
   "pygments_lexer": "ipython3",
   "version": "3.13.7"
  }
 },
 "nbformat": 4,
 "nbformat_minor": 5
}
