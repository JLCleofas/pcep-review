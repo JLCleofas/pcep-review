{
 "cells": [
  {
   "cell_type": "code",
   "execution_count": 3,
   "id": "7be4ca45",
   "metadata": {},
   "outputs": [
    {
     "name": "stdout",
     "output_type": "stream",
     "text": [
      "You are over 30 years old\n",
      "Sorry, you do not qualify\n"
     ]
    }
   ],
   "source": [
    "user_age = int(input('What is you age? '))\n",
    "if user_age > 30:\n",
    "    print('You are over 30 years old')\n",
    "    print('Sorry, you do not qualify')"
   ]
  },
  {
   "cell_type": "code",
   "execution_count": 4,
   "id": "6e0f79fc",
   "metadata": {},
   "outputs": [
    {
     "name": "stdout",
     "output_type": "stream",
     "text": [
      "Sorry, you do not qualify\n"
     ]
    }
   ],
   "source": [
    "user_age = int(input('What is you age? '))\n",
    "if user_age > 30:\n",
    "    print('You are over 30 years old')\n",
    "print('Sorry, you do not qualify')"
   ]
  },
  {
   "cell_type": "code",
   "execution_count": 5,
   "id": "f3e7a020",
   "metadata": {},
   "outputs": [
    {
     "name": "stdout",
     "output_type": "stream",
     "text": [
      "You are 30 years old or younger\n",
      "Congratulations, you qualify!\n"
     ]
    }
   ],
   "source": [
    "user_age = int(input('What is you age? '))\n",
    "if user_age > 30:\n",
    "    print('You are over 30 years old')\n",
    "    print('Sorry, you do not qualify')\n",
    "else:\n",
    "    print('You are 30 years old or younger')\n",
    "    print('Congratulations, you qualify!')"
   ]
  },
  {
   "cell_type": "code",
   "execution_count": 6,
   "id": "788c1d39",
   "metadata": {},
   "outputs": [
    {
     "name": "stdout",
     "output_type": "stream",
     "text": [
      "You are exactly 30 years old\n",
      "You will need to meet additional conditions to qualify\n"
     ]
    }
   ],
   "source": [
    "user_age = int(input('What is you age? '))\n",
    "if user_age > 30:\n",
    "    print('You are over 30 years old')\n",
    "    print('Sorry, you do not qualify')\n",
    "elif user_age == 30:\n",
    "    print('You are exactly 30 years old')\n",
    "    print('You will need to meet additional conditions to qualify')\n",
    "else:\n",
    "    print('You are 30 years old or younger')\n",
    "    print('Congratulations, you qualify!')"
   ]
  },
  {
   "cell_type": "code",
   "execution_count": null,
   "id": "fc401dd3",
   "metadata": {},
   "outputs": [],
   "source": []
  }
 ],
 "metadata": {
  "kernelspec": {
   "display_name": "Python 3",
   "language": "python",
   "name": "python3"
  },
  "language_info": {
   "codemirror_mode": {
    "name": "ipython",
    "version": 3
   },
   "file_extension": ".py",
   "mimetype": "text/x-python",
   "name": "python",
   "nbconvert_exporter": "python",
   "pygments_lexer": "ipython3",
   "version": "3.13.1"
  }
 },
 "nbformat": 4,
 "nbformat_minor": 5
}
