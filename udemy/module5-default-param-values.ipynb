{
 "cells": [
  {
   "cell_type": "code",
   "execution_count": 1,
   "id": "33c77b35",
   "metadata": {},
   "outputs": [],
   "source": [
    "def print_letter_count(text, letter = 'a'):\n",
    "    counter = 0\n",
    "    for char in text:\n",
    "        if char ==  letter:\n",
    "            counter += 1\n",
    "    print(f'Number of \\'{letter}\\' is {counter}')"
   ]
  },
  {
   "cell_type": "code",
   "execution_count": 2,
   "id": "5a25b8af",
   "metadata": {},
   "outputs": [
    {
     "name": "stdout",
     "output_type": "stream",
     "text": [
      "Number of 'a' is 3\n"
     ]
    }
   ],
   "source": [
    "print_letter_count('How many letters a are here?')"
   ]
  },
  {
   "cell_type": "code",
   "execution_count": null,
   "id": "cc4f3c7f",
   "metadata": {},
   "outputs": [],
   "source": [
    "# using default values for both the parameters\n",
    "\n",
    "def print_letter_count(text = 'How many letters a are here?', letter = 'a'):\n",
    "    counter = 0\n",
    "    for char in text:\n",
    "        if char ==  letter:\n",
    "            counter += 1\n",
    "    print(f'Number of \\'{letter}\\' is {counter}')"
   ]
  },
  {
   "cell_type": "code",
   "execution_count": null,
   "id": "5189be1c",
   "metadata": {},
   "outputs": [
    {
     "name": "stdout",
     "output_type": "stream",
     "text": [
      "Number of 'a' is 3\n"
     ]
    }
   ],
   "source": [
    "# using default values for both the parameters will enable you to use the funtion without argumets\n",
    "print_letter_count()"
   ]
  },
  {
   "cell_type": "code",
   "execution_count": null,
   "id": "c85e0e81",
   "metadata": {},
   "outputs": [
    {
     "ename": "SyntaxError",
     "evalue": "parameter without a default follows parameter with a default (1520188926.py, line 1)",
     "output_type": "error",
     "traceback": [
      "  \u001b[36mCell\u001b[39m\u001b[36m \u001b[39m\u001b[32mIn[5]\u001b[39m\u001b[32m, line 1\u001b[39m\n\u001b[31m    \u001b[39m\u001b[31mdef print_letter_count(text = 'How many letters a are here?', letter):\u001b[39m\n                                                                  ^\n\u001b[31mSyntaxError\u001b[39m\u001b[31m:\u001b[39m parameter without a default follows parameter with a default\n"
     ]
    }
   ],
   "source": [
    "# default values should be the last parameters\n",
    "\n",
    "def print_letter_count(text = 'How many letters a are here?', letter):\n",
    "    counter = 0\n",
    "    for char in text:\n",
    "        if char ==  letter:\n",
    "            counter += 1\n",
    "    print(f'Number of \\'{letter}\\' is {counter}')"
   ]
  },
  {
   "cell_type": "code",
   "execution_count": 6,
   "id": "5ae498e1",
   "metadata": {},
   "outputs": [
    {
     "ename": "SyntaxError",
     "evalue": "positional argument follows keyword argument (3076521923.py, line 1)",
     "output_type": "error",
     "traceback": [
      "  \u001b[36mCell\u001b[39m\u001b[36m \u001b[39m\u001b[32mIn[6]\u001b[39m\u001b[32m, line 1\u001b[39m\n\u001b[31m    \u001b[39m\u001b[31mprint_letter_count(letter='e', 'Search here')\u001b[39m\n                                                ^\n\u001b[31mSyntaxError\u001b[39m\u001b[31m:\u001b[39m positional argument follows keyword argument\n"
     ]
    }
   ],
   "source": [
    "print_letter_count(letter='e', 'Search here')"
   ]
  },
  {
   "cell_type": "code",
   "execution_count": 7,
   "id": "e422c35a",
   "metadata": {},
   "outputs": [
    {
     "name": "stdout",
     "output_type": "stream",
     "text": [
      "Number of 'e' is 3\n"
     ]
    }
   ],
   "source": [
    "print_letter_count('Search here', letter='e')"
   ]
  },
  {
   "cell_type": "code",
   "execution_count": null,
   "id": "f052360b",
   "metadata": {},
   "outputs": [],
   "source": []
  }
 ],
 "metadata": {
  "kernelspec": {
   "display_name": "Python 3",
   "language": "python",
   "name": "python3"
  },
  "language_info": {
   "codemirror_mode": {
    "name": "ipython",
    "version": 3
   },
   "file_extension": ".py",
   "mimetype": "text/x-python",
   "name": "python",
   "nbconvert_exporter": "python",
   "pygments_lexer": "ipython3",
   "version": "3.13.3"
  }
 },
 "nbformat": 4,
 "nbformat_minor": 5
}
