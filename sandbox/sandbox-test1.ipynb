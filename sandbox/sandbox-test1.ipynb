{
 "cells": [
  {
   "cell_type": "code",
   "execution_count": 6,
   "id": "3418d3b4",
   "metadata": {},
   "outputs": [
    {
     "name": "stdout",
     "output_type": "stream",
     "text": [
      "Thank you!\n"
     ]
    }
   ],
   "source": [
    "budget = 6000.0\n",
    "while True:\n",
    "    expense = input('Enter expense: ')\n",
    "    if expense == 'EXIT':\n",
    "        print('Thank you!')\n",
    "        break\n",
    "    try:\n",
    "        expense = float(expense)\n",
    "        budget -= expense\n",
    "        print('Remaining budget:', budget)\n",
    "        if budget <= 0.0:\n",
    "            print('You are now out of budget this month.')\n",
    "    except ValueError:\n",
    "        print('Please enter a valid number.')\n",
    "\n",
    "\n"
   ]
  },
  {
   "cell_type": "code",
   "execution_count": null,
   "id": "6afeafa6",
   "metadata": {},
   "outputs": [],
   "source": []
  }
 ],
 "metadata": {
  "kernelspec": {
   "display_name": "Python 3",
   "language": "python",
   "name": "python3"
  },
  "language_info": {
   "codemirror_mode": {
    "name": "ipython",
    "version": 3
   },
   "file_extension": ".py",
   "mimetype": "text/x-python",
   "name": "python",
   "nbconvert_exporter": "python",
   "pygments_lexer": "ipython3",
   "version": "3.13.7"
  }
 },
 "nbformat": 4,
 "nbformat_minor": 5
}
